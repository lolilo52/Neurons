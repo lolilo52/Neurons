{
  "cells": [
    {
      "cell_type": "markdown",
      "metadata": {
        "id": "view-in-github",
        "colab_type": "text"
      },
      "source": [
        "<a href=\"https://colab.research.google.com/github/lolilo52/Neurons/blob/main/%D0%91%D0%BE%D0%B1%D0%B5%D1%802.ipynb\" target=\"_parent\"><img src=\"https://colab.research.google.com/assets/colab-badge.svg\" alt=\"Open In Colab\"/></a>"
      ]
    },
    {
      "cell_type": "code",
      "execution_count": 6,
      "metadata": {
        "id": "Hj9bgnK5lEUF"
      },
      "outputs": [],
      "source": [
        "int_variable = 5  # int\n",
        "assert isinstance(int_variable, int)\n",
        "\n",
        "float_variable = 4.2  # float\n",
        "assert isinstance(float_variable, float)\n",
        "\n",
        "string_variable = 'bober'  # string\n",
        "assert isinstance(string_variable, str)\n",
        "\n",
        "bool_variable = False  # bool\n",
        "assert isinstance(bool_variable, bool)"
      ]
    },
    {
      "cell_type": "code",
      "execution_count": 3,
      "metadata": {
        "id": "ngA37E3bmXEh"
      },
      "outputs": [],
      "source": [
        "list_variable = [2,3,3,3]  # list\n",
        "assert isinstance(list_variable, list)\n",
        "\n",
        "tuple_variable = (3,54,5,34,3,3)  # tuple\n",
        "assert isinstance(tuple_variable, tuple)\n",
        "\n",
        "set_variable = {4,7,'rtrt'}  # set\n",
        "assert isinstance(set_variable, set)\n",
        "dict_variable = {'a': 'key'}  # dict\n",
        "assert isinstance(dict_variable, dict)"
      ]
    },
    {
      "cell_type": "code",
      "execution_count": 4,
      "metadata": {
        "id": "x5zX1pq0oNBy"
      },
      "outputs": [],
      "source": [
        "def difference_of_two_numbers(first, second):\n",
        "    \n",
        "   return first - second\n",
        "\n",
        "\n",
        "assert difference_of_two_numbers(2, 1) == 1\n",
        "assert difference_of_two_numbers(4, 1) == 3\n",
        "assert difference_of_two_numbers(10, 0) == 10\n",
        "assert difference_of_two_numbers(-5, -6) == 1"
      ]
    },
    {
      "cell_type": "code",
      "execution_count": 5,
      "metadata": {
        "id": "BEkAF3hMo-9s"
      },
      "outputs": [],
      "source": [
        "def condition_function(input_number):\n",
        "  \n",
        "    if input_number <= 0:\n",
        "      return input_number*2\n",
        "    elif (input_number>0) and (input_number<=10):\n",
        "      return input_number*3\n",
        "    else: \n",
        "      return input_number/10\n",
        "\n",
        "\n",
        "\n",
        "\n",
        "assert condition_function(0) == 0\n",
        "assert condition_function(-1) == -2\n",
        "assert condition_function(1) == 3\n",
        "assert condition_function(10) == 30\n",
        "assert condition_function(11) == 1.1\n",
        "assert condition_function(20) == 2\n",
        "\n"
      ]
    },
    {
      "cell_type": "code",
      "execution_count": 10,
      "metadata": {
        "id": "rd8vAHD_13SX"
      },
      "outputs": [],
      "source": [
        "def calculator(number_1, operation, number_2):\n",
        "   \n",
        "    if operation == '+':\n",
        "      return number_1+number_2\n",
        "    elif operation == '-':\n",
        "      return number_1-number_2\n",
        "    elif operation == '*':\n",
        "      return number_1*number_2\n",
        "    elif operation == '/':\n",
        "      return number_1/number_2\n",
        "\n",
        "\n",
        "assert calculator(1, \"+\", 2) == 3\n",
        "assert calculator(3, \"-\", 1) == 2\n",
        "assert calculator(4, \"*\", 3) == 12\n",
        "assert calculator(2, \"/\", 2) == 1"
      ]
    },
    {
      "cell_type": "code",
      "execution_count": 9,
      "metadata": {
        "id": "lhDosISQj69k"
      },
      "outputs": [],
      "source": [
        "def number_of_unique_elements(input_list):\n",
        "  return len(set(input_list))\n",
        "\n",
        "\n",
        "assert number_of_unique_elements([1, 2, 3]) == 3\n",
        "assert number_of_unique_elements([1] * 93) == 1\n",
        "assert number_of_unique_elements(list(range(1000))) == 1000"
      ]
    },
    {
      "cell_type": "code",
      "execution_count": 8,
      "metadata": {
        "id": "p-cgj8t8nnVk"
      },
      "outputs": [],
      "source": [
        "def counter(input_list):\n",
        " \n",
        "    dictik = dict()\n",
        "    for i in input_list: \n",
        "        if i in dictik:\n",
        "         dictik[i] += 1 \n",
        "        else:\n",
        "         dictik[i] = 1\n",
        "    return dictik\n",
        "\n",
        "\n",
        "assert counter([1, 1, 1, 2, 3]) == {1: 3, 2: 1, 3: 1}\n",
        "assert counter([1] * 1000) == {1: 1000}\n",
        "assert counter([1, 3, 5] * 100) == {1: 100, 3: 100, 5: 100}"
      ]
    },
    {
      "cell_type": "code",
      "execution_count": 7,
      "metadata": {
        "id": "i48Ewj0D4Snk"
      },
      "outputs": [],
      "source": [
        "\n",
        "def multiply_nums(input_string):\n",
        "    \n",
        "    input_string = map(int, input_string.split(','))\n",
        "    mul = 1\n",
        "    for i in input_string:\n",
        "        mul *= i\n",
        "\n",
        "    return mul\n",
        "\n",
        "\n",
        "assert multiply_nums(\"2, 3\") == 6\n",
        "assert multiply_nums(\"1, 1, 1, 1, 1, 1, 1\") == 1\n",
        "assert multiply_nums(\"345, 4576, 794, 325, 0\") == 0"
      ]
    },
    {
      "cell_type": "code",
      "execution_count": 11,
      "metadata": {
        "id": "QdWOO3Fv5XO6"
      },
      "outputs": [],
      "source": [
        "import math\n"
      ]
    },
    {
      "cell_type": "code",
      "execution_count": 12,
      "metadata": {
        "id": "RMQCyhL85n5u"
      },
      "outputs": [],
      "source": [
        "def custom_function(x):\n",
        "  return math.sin(x)*math.cos(x)\n",
        "\n",
        "assert round(custom_function(1), 3) == 0.455\n",
        "assert round(custom_function(1.5), 3) == 0.071\n",
        "assert round(custom_function(2), 3) == -0.378\n",
        "assert custom_function(0) == 0"
      ]
    },
    {
      "cell_type": "code",
      "execution_count": 13,
      "metadata": {
        "colab": {
          "base_uri": "https://localhost:8080/"
        },
        "id": "k6W3bNCs6HXu",
        "outputId": "d855c650-20d0-403b-b1c0-cd28a058a84c"
      },
      "outputs": [
        {
          "output_type": "stream",
          "name": "stdout",
          "text": [
            "1.2116433975699932\n",
            "1.6855117971658002\n",
            "2.7066314174469377\n",
            "2.161431714512932\n",
            "8.27683559832403\n",
            "2.161431714512932\n",
            "8.27683559832403\n",
            "49.699880147148015\n"
          ]
        }
      ],
      "source": [
        "def custom_function_1(x, n):\n",
        "  a = 1\n",
        "  for i in range(1,n+1):\n",
        "    a*=((i+2)**x+math.log(x))/(x**2+4*i) \n",
        "    print(a)\n",
        "  return a\n",
        "\n",
        "\n",
        "             \n",
        "\n",
        "assert round(custom_function_1(2, 3), 3) == 2.707\n",
        "assert round(custom_function_1(3, 2), 3) == 8.277\n",
        "assert round(custom_function_1(3, 3), 3) == 49.7"
      ]
    },
    {
      "cell_type": "code",
      "execution_count": 15,
      "metadata": {
        "id": "oVMq_F_kgeI7"
      },
      "outputs": [],
      "source": [
        "class MyList:\n",
        "    def __init__(self,list):\n",
        "         self.list = list\n",
        "        \n",
        "       \n",
        "    \n",
        "    def return_sum(self):\n",
        "        summ=0\n",
        "        \n",
        "        for i in range(len(self.list)):\n",
        "         summ+=+self.list[i]\n",
        "        return summ\n",
        "    \n",
        "    def make_reverse(self):\n",
        "        return self.list[::-1]\n",
        "      \n",
        "        \n",
        "    \n",
        "    def make_slice(self, start, stop):\n",
        "        return self.list[start:stop]\n",
        "    \n",
        "    \n",
        "a = MyList([1, 2, 3, 4])\n",
        "assert a.return_sum() == 10\n",
        "assert a.make_reverse() == [4, 3, 2, 1]\n",
        "assert a.make_slice(0, 2) == [1, 2]\n",
        "\n",
        "b = MyList([5, 6, 6, 5])\n",
        "assert b.return_sum() == 22\n",
        "assert b.make_reverse() == [5, 6, 6, 5]\n",
        "assert b.make_slice(1, 2) == [6]\n"
      ]
    }
  ],
  "metadata": {
    "colab": {
      "provenance": [],
      "toc_visible": true,
      "authorship_tag": "ABX9TyMAQe2x/RJyh8wbr9UIscfj",
      "include_colab_link": true
    },
    "kernelspec": {
      "display_name": "Python 3",
      "name": "python3"
    },
    "language_info": {
      "name": "python"
    }
  },
  "nbformat": 4,
  "nbformat_minor": 0
}