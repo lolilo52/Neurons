{
  "nbformat": 4,
  "nbformat_minor": 0,
  "metadata": {
    "colab": {
      "provenance": [],
      "authorship_tag": "ABX9TyNBet1aSOVRonm6C/yFGiUX",
      "include_colab_link": true
    },
    "kernelspec": {
      "name": "python3",
      "display_name": "Python 3"
    },
    "language_info": {
      "name": "python"
    }
  },
  "cells": [
    {
      "cell_type": "markdown",
      "metadata": {
        "id": "view-in-github",
        "colab_type": "text"
      },
      "source": [
        "<a href=\"https://colab.research.google.com/github/lolilo52/Neurons/blob/main/%D0%91%D0%BE%D0%B1%D0%B5%D1%803.ipynb\" target=\"_parent\"><img src=\"https://colab.research.google.com/assets/colab-badge.svg\" alt=\"Open In Colab\"/></a>"
      ]
    },
    {
      "cell_type": "markdown",
      "source": [
        "Лабораторная работа №3\n",
        "ФИО: Меркулов Александр Сергеевич\n",
        "Группа: Бивт-20-4\n",
        "\n",
        "\n",
        "soft -- 16.04.2023 23:59 (за сдачу в пределах этого времени +1 балл в табличку)\n",
        "hard -- 30.04.2023 23:59\n"
      ],
      "metadata": {
        "id": "Lo8qpl71DlZF"
      }
    },
    {
      "cell_type": "code",
      "execution_count": 1,
      "metadata": {
        "id": "46OXdtbE-GZ2"
      },
      "outputs": [],
      "source": [
        "import numpy as np\n",
        "import matplotlib.pyplot as plt\n",
        "\n",
        "from IPython.display import clear_output"
      ]
    },
    {
      "cell_type": "code",
      "source": [
        "class SigmoidLayer():\n",
        "    def __init__(self):\n",
        "        self.params = []\n",
        "        self.gradInput = None\n",
        "        self.gradW = None\n",
        "\n",
        "    def forward(self, X):\n",
        "        self.X = X.copy()\n",
        "        output = (1 / (1 + np.exp(-X)))\n",
        "        return output\n",
        "    \n",
        "    def backward(self, dout):\n",
        "        sigmoid_output = self.forward(self.X)\n",
        "        dx = (1 - sigmoid_output) * sigmoid_output * dout\n",
        "        self.gradInput = dx\n",
        "        return self.gradInput, []\n",
        "        "
      ],
      "metadata": {
        "id": "Gus_yFeH-ez_"
      },
      "execution_count": 2,
      "outputs": []
    },
    {
      "cell_type": "code",
      "source": [
        "np.random.seed(17)\n",
        "\n",
        "X = np.random.random(size=(100, 3))\n",
        "sigmoid = SigmoidLayer()\n",
        "output = sigmoid.forward(X)\n",
        "correct_answer = np.array([[0.57313782, 0.62961995, 0.54773438],\n",
        "                           [0.51696857, 0.68718368, 0.65843628],\n",
        "                           [0.65419284, 0.64005501, 0.50976449],\n",
        "                           [0.58851107, 0.7202462 , 0.51500666],\n",
        "                           [0.70350447, 0.70626044, 0.51279562]])\n",
        "assert np.isclose(output[:5], correct_answer).all()\n",
        "assert hasattr(sigmoid, \"params\"), \"Нет параметра params в реализованном классе\"\n",
        "assert hasattr(sigmoid, \"gradInput\"), \"Нет параметра gradInput в реализованном классе\"\n",
        "assert hasattr(sigmoid, \"X\"), \"Не сохранили X в реализованном классе\"\n",
        "\n",
        "\n",
        "dout = np.random.random(size=(100, 3))\n",
        "dInput, _ = sigmoid.backward(dout)\n",
        "correct_dInput = np.array([[0.19460589, 0.20407074, 0.17488009],\n",
        "                           [0.1656316 , 0.10298473, 0.08073351],\n",
        "                           [0.21590141, 0.1403435 , 0.21416212],\n",
        "                           [0.21320927, 0.03610846, 0.05416308],\n",
        "                           [0.00737656, 0.03121984, 0.02882668]])\n",
        "assert np.isclose(dInput[:5], correct_dInput).all()"
      ],
      "metadata": {
        "id": "BEvjh93Q-y2M"
      },
      "execution_count": 3,
      "outputs": []
    },
    {
      "cell_type": "code",
      "source": [
        "class TanhLayer():\n",
        "    def __init__(self):\n",
        "        self.params = []\n",
        "        self.gradInput = None\n",
        "        self.gradW = None\n",
        "        \n",
        "\n",
        "    def forward(self, X):\n",
        "        self.X = X.copy()\n",
        "        output = ((np.exp(X) - np.exp(-X))/(np.exp(X) + np.exp(-X)))\n",
        "        return output\n",
        "    \n",
        "    def backward(self, dout):\n",
        "        output = self.forward(self.X)\n",
        "        self.gradInput = (1 - output ** 2) * dout\n",
        "\n",
        "        return self.gradInput, []"
      ],
      "metadata": {
        "id": "YC1OZMbZ-3Cj"
      },
      "execution_count": 4,
      "outputs": []
    },
    {
      "cell_type": "code",
      "source": [
        "np.random.seed(17)\n",
        "\n",
        "X = np.random.random(size=(100, 3))\n",
        "tanh = TanhLayer()\n",
        "output = tanh.forward(X)\n",
        "correct_answer = np.array([[0.28642281, 0.48582948, 0.18921297],\n",
        "                           [0.0677962 , 0.65669792, 0.57591821],\n",
        "                           [0.5632092 , 0.51946218, 0.03904306],\n",
        "                           [0.34328675, 0.73782249, 0.05997262],\n",
        "                           [0.69833441, 0.70505935, 0.05114899]])\n",
        "assert np.isclose(output[:5], correct_answer).all()\n",
        "assert hasattr(tanh, \"params\"), \"Нет параметра params в реализованном классе\"\n",
        "assert hasattr(tanh, \"gradInput\"), \"Нет параметра gradInput в реализованном классе\"\n",
        "assert hasattr(tanh, \"X\"), \"Не сохранили X в реализованном классе\"\n",
        "\n",
        "\n",
        "dout = np.random.random(size=(100, 3))\n",
        "dInput, _ = tanh.backward(dout)\n",
        "correct_dInput = np.array([[0.7301867 , 0.66854527, 0.68068037],\n",
        "                           [0.66024164, 0.27247731, 0.23991181],\n",
        "                           [0.65163784, 0.44479135, 0.85566899],\n",
        "                           [0.77667226, 0.08164937, 0.21606773],\n",
        "                           [0.01811832, 0.07567937, 0.11508041]])\n",
        "assert np.isclose(dInput[:5], correct_dInput).all()"
      ],
      "metadata": {
        "id": "B_hYks2b-8kQ"
      },
      "execution_count": 5,
      "outputs": []
    },
    {
      "cell_type": "code",
      "source": [
        "class MSELoss():\n",
        "    def forward(self, y_true, y_pred):\n",
        "        m = len(y_true)\n",
        "        loss = (1 / m) * (np.sum((y_true-y_pred)**2))\n",
        "        return loss\n",
        "    \n",
        "    def backward(self, y_true, y_pred):\n",
        "        return (2 / len(y_true)) * (y_pred - y_true)"
      ],
      "metadata": {
        "id": "xqi7obhB-_FZ"
      },
      "execution_count": 6,
      "outputs": []
    },
    {
      "cell_type": "code",
      "source": [
        "np.random.seed(17)\n",
        "\n",
        "y_true = np.random.randint(0, 1000, size=(100))\n",
        "y_pred = np.random.randint(0, 1000, size=(100))\n",
        "mse = MSELoss()\n",
        "output = mse.forward(y_true, y_pred)\n",
        "correct_answer = 157953.51\n",
        "assert round(output) == round(correct_answer)\n",
        "\n",
        "dout = mse.backward(y_true, y_pred)\n",
        "right_dout = np.array([3.56, 1.24, 10.2, 7.68, 3.02, 9.04, -12.84, -2.16, 3.04, 0.24])\n",
        "assert np.isclose(dout[:10], right_dout).all()\n",
        "assert round(dout.sum(), 3) == 19.26"
      ],
      "metadata": {
        "id": "yc67PzAf_BUP"
      },
      "execution_count": 7,
      "outputs": []
    },
    {
      "cell_type": "code",
      "source": [
        "class LinearLayer:\n",
        "    \"\"\"\n",
        "    Линейный слой с семинаров, ничего менять не надо\n",
        "    \"\"\"\n",
        "    def __init__(self, in_size, out_size):\n",
        "        self.W = np.random.randn(in_size, out_size)\n",
        "        self.params = [self.W]\n",
        "        self.gradW = None\n",
        "        self.gradInput = None\n",
        "        \n",
        "    def forward(self, X):\n",
        "        self.X = X.copy()\n",
        "        output = X.dot(self.W)\n",
        "        return output\n",
        "    \n",
        "    def backward(self, dout):\n",
        "        self.gradW = self.X.T.dot(dout)\n",
        "        self.gradInput = dout.dot(self.W.T)\n",
        "        return self.gradInput, [self.gradW]\n",
        "\n",
        "\n",
        "class NN:\n",
        "    def __init__(self, loss_func):\n",
        "        self.layers = []\n",
        "        self.params = []\n",
        "        self.grads = []\n",
        "        self.loss_func = loss_func\n",
        "\n",
        "    def add_layer(self, layer):\n",
        "        self.layers.append(layer)\n",
        "        self.params.append(layer.params)\n",
        "\n",
        "    def forward(self, X):\n",
        "        self.X = X.copy()\n",
        "        for layer in self.layers:\n",
        "            self.X = layer.forward(self.X).copy()\n",
        "\n",
        "        return self.X\n",
        "    \n",
        "    def backward(self, dout):\n",
        "        self.clear_grad_param()\n",
        "        for layer in reversed(self.layers):\n",
        "            dout, grad = layer.backward(dout)\n",
        "            self.grads.append(grad)\n",
        "        return self.grads\n",
        "\n",
        "    def train_step(self, X, y):\n",
        "        out = self.forward(X)\n",
        "        loss = self.loss_func.forward(y, out)\n",
        "        grads = self.backward(self.loss_func.backward(y, out))\n",
        "        return loss, grads\n",
        "\n",
        "    def predict(self, X):\n",
        "        return self.forward(X)\n",
        "    \n",
        "    def dispGradParam():\n",
        "        print(self.grads)\n",
        "    \n",
        "    def clear_grad_param(self):\n",
        "        self.grads = []\n",
        "    \n",
        "    \n",
        "nn = NN(MSELoss())\n",
        "\n",
        "assert hasattr(nn, \"layers\")\n",
        "assert hasattr(nn, \"params\")\n",
        "assert hasattr(nn, \"grads\")\n",
        "assert hasattr(nn, \"loss_func\")\n",
        "assert isinstance(nn.loss_func, MSELoss)"
      ],
      "metadata": {
        "id": "7ACXppVl_Dp-"
      },
      "execution_count": 8,
      "outputs": []
    },
    {
      "cell_type": "code",
      "source": [
        "np.random.seed(17)\n",
        "\n",
        "X = np.random.random(size=(100, 3))\n",
        "nn = NN(MSELoss())\n",
        "\n",
        "linear1 = LinearLayer(3, 5)\n",
        "nn.add_layer(linear1)\n",
        "\n",
        "sigmoid1 = SigmoidLayer()\n",
        "nn.add_layer(sigmoid1)\n",
        "\n",
        "linear2 = LinearLayer(5, 1)\n",
        "nn.add_layer(linear2)\n",
        "\n",
        "sigmoid2 = SigmoidLayer()\n",
        "nn.add_layer(sigmoid2)\n",
        "\n",
        "output_nn = nn.forward(X)\n",
        "\n",
        "assert round(output_nn.sum()) == 65\n",
        "\n",
        "\n",
        "y = np.random.randint(0, 2, size=100).reshape(-1, 1)\n",
        "\n",
        "nn_predict = nn.predict(X)\n",
        "assert (output_nn == nn.predict(X)).all()\n",
        "\n",
        "loss, grads = nn.train_step(X, y)\n",
        "right_loss = np.array([0.24705916])\n",
        "\n",
        "assert np.isclose(loss, right_loss)\n",
        "assert grads[0] == []\n",
        "assert round(grads[1][0].sum(), 4) == 0.0394\n",
        "assert grads[2] == []\n",
        "assert round(grads[3][0].sum(), 4) == 0.0077"
      ],
      "metadata": {
        "id": "y9CcrZAr_G6f"
      },
      "execution_count": 9,
      "outputs": []
    },
    {
      "cell_type": "code",
      "source": [
        "def minibatch(X, y, minibatch_size):\n",
        "    batches = []\n",
        "    for i in range(0, len(X), minibatch_size):\n",
        "      batches.append((X[i : i + minibatch_size], y[i : i + minibatch_size]))\n",
        "    return batches"
      ],
      "metadata": {
        "id": "4Vix3P7A_JgK"
      },
      "execution_count": 10,
      "outputs": []
    },
    {
      "cell_type": "code",
      "source": [
        "np.random.seed(17)\n",
        "\n",
        "BATCH_SIZE = 33\n",
        "X = np.random.random(size=(100, 3))\n",
        "y = np.random.randint(0, 2, size=100).reshape(-1, 1)\n",
        "\n",
        "minibatches = minibatch(X, y, BATCH_SIZE)\n",
        "X_batch0, y_batch0 = minibatches[0]\n",
        "correct_y_batch0 = np.array([[0], [0], [0], [1], [1]])\n",
        "assert len(minibatches) == 4\n",
        "assert round(X_batch0.sum(), 3) == 50.216\n",
        "assert (y_batch0[:5] == correct_y_batch0).all()"
      ],
      "metadata": {
        "id": "NcsqRvig_LyJ"
      },
      "execution_count": 11,
      "outputs": []
    },
    {
      "cell_type": "code",
      "source": [
        "def update(velocity, params, grads, learning_rate=0.001, mu=0.9):\n",
        "    \"\"\"\n",
        "    Обратите внимание на эту функцию\n",
        "    Здесь происходит чуть хитрое обновление весов\n",
        "    На семинаре поговорим об этом\n",
        "    \"\"\"\n",
        "    for v, p, g, in zip(velocity, params, reversed(grads)):\n",
        "        for i in range(len(g)):\n",
        "            v[i] = mu * v[i] + learning_rate * g[i]\n",
        "            p[i] -= v[i]\n",
        "            \n",
        "\n",
        "def plot_train_process(train_acc_list, val_acc_list, \n",
        "                       mean_train_loss_list, mean_val_loss_list):\n",
        "    fig, axes = plt.subplots(1, 2, figsize=(15, 5))\n",
        "\n",
        "    axes[0].set_title('Mean absolute error')\n",
        "    axes[1].set_title('Loss')\n",
        "    \n",
        "    axes[0].plot(train_acc_list, label='train')\n",
        "    axes[0].plot(val_acc_list, label='test')\n",
        "    axes[0].legend()\n",
        "    \n",
        "    axes[1].plot(mean_train_loss_list, label='train')\n",
        "    axes[1].plot(mean_val_loss_list, label='test')\n",
        "    axes[1].legend()\n",
        "    \n",
        "    plt.show()\n",
        "    \n",
        "    \n",
        "def check_accuracy(y_true, y_pred):\n",
        "    return np.mean(abs(y_true - y_pred))\n",
        "\n",
        "\n",
        "def train(net, X_train, y_train, minibatch_size, epoch, learning_rate, mu=0.9,\n",
        "                 verbose=True, X_val=None, y_val=None, nesterov=True, draw_each_iters=5):\n",
        "    val_loss_epoch = []\n",
        "    minibatches = minibatch(X_train, y_train, minibatch_size)\n",
        "    minibatches_val = minibatch(X_val, y_val, minibatch_size)\n",
        "\n",
        "    c = 0 \n",
        "\n",
        "    mean_train_loss_list = []\n",
        "    mean_val_loss_list = []\n",
        "    train_acc_list = []\n",
        "    val_acc_list = []\n",
        "    for n_iter in range(epoch):\n",
        "        loss_batch = []\n",
        "        val_loss_batch = []\n",
        "        velocity = []\n",
        "        for param_layer in net.params:\n",
        "            p = [np.zeros_like(param) for param in list(param_layer)]\n",
        "            velocity.append(p)\n",
        "\n",
        "        # iterate over mini batches\n",
        "        for X_mini, y_mini in minibatches:\n",
        "\n",
        "            loss, grads = net.train_step(X_mini, y_mini)\n",
        "            loss_batch.append(loss)\n",
        "            update(velocity, net.params, grads,\n",
        "                   learning_rate=learning_rate, mu=mu)\n",
        "\n",
        "        for X_mini_val, y_mini_val in minibatches_val:\n",
        "            val_loss, _ = net.train_step(X_mini, y_mini)\n",
        "            val_loss_batch.append(val_loss)\n",
        "\n",
        "\n",
        " \n",
        "\n",
        "        if verbose:\n",
        "            m_train = X_train.shape[0]\n",
        "            m_val = X_val.shape[0]\n",
        "            y_train_pred = np.array([], dtype=\"int64\")\n",
        "            y_val_pred = np.array([], dtype=\"int64\")\n",
        "\n",
        "            for i in range(0, m_train, minibatch_size):\n",
        "                X_tr = X_train[i:i + minibatch_size, : ]\n",
        "                y_tr = y_train[i:i + minibatch_size, ]\n",
        "                y_train_pred = np.append(y_train_pred, net.predict(X_tr))\n",
        "\n",
        "            for i in range(0, m_val, minibatch_size):\n",
        "                X_va = X_val[i:i + minibatch_size, : ]\n",
        "                y_va = y_val[i:i + minibatch_size, ]\n",
        "                y_val_pred = np.append(y_val_pred, net.predict(X_va))\n",
        "        \n",
        "            train_acc = check_accuracy(y_train, y_train_pred)\n",
        "            val_acc = check_accuracy(y_val, y_val_pred)\n",
        "            mean_train_loss = sum(loss_batch) / float(len(loss_batch))\n",
        "            mean_val_loss = sum(val_loss_batch) / float(len(val_loss_batch))\n",
        "            \n",
        "            train_acc_list.append(train_acc)\n",
        "            val_acc_list.append(val_acc)\n",
        "            \n",
        "            mean_train_loss_list.append(mean_train_loss)\n",
        "            mean_val_loss_list.append(mean_val_loss)\n",
        "\n",
        "            # early stopping with patience = 5 on val loss\n",
        "            if len(val_loss_epoch) == 0:\n",
        "                val_loss_epoch.append(mean_val_loss)\n",
        "            else:\n",
        "                for j in val_loss_epoch[-5:]:\n",
        "                    if mean_val_loss > j:\n",
        "                        c += 1\n",
        "                    else:\n",
        "                        c = 0\n",
        "                if c > 5:\n",
        "                    print('Early stopping')\n",
        "                    return net\n",
        "                else:\n",
        "                    c = 0\n",
        "                    val_loss_epoch.append(mean_val_loss)  \n",
        "                    \n",
        "            if n_iter % draw_each_iters == 0:\n",
        "                clear_output(True)\n",
        "                plot_train_process(train_acc_list, val_acc_list, \n",
        "                                   mean_train_loss_list, mean_val_loss_list)\n",
        "    return net"
      ],
      "metadata": {
        "id": "lcp2yZre_Op0"
      },
      "execution_count": 13,
      "outputs": []
    },
    {
      "cell_type": "code",
      "source": [
        "# Get preprocessed training and validation data\n",
        "\n",
        "X_train = np.arange(1000).reshape(250, 4) / 1e4\n",
        "y_train = X_train.sum(axis=1).reshape(-1, 1)\n",
        "\n",
        "X_test = np.arange(1000, 2000).reshape(250, 4) / 1e4\n",
        "y_test = X_test.sum(axis=1).reshape(-1, 1) \n",
        "\n",
        "print(\"X train:\")\n",
        "print(X_train[:5])\n",
        "print(\"y train:\")\n",
        "print(y_train[:5])\n",
        "print()\n",
        "print(\"X test:\")\n",
        "print(X_test[:5])\n",
        "print(\"y test:\")\n",
        "print(y_test[:5])"
      ],
      "metadata": {
        "colab": {
          "base_uri": "https://localhost:8080/"
        },
        "id": "6TsmP9xUA7Xy",
        "outputId": "d824a9eb-ae0c-4211-efe5-bc2fb0722343"
      },
      "execution_count": 14,
      "outputs": [
        {
          "output_type": "stream",
          "name": "stdout",
          "text": [
            "X train:\n",
            "[[0.     0.0001 0.0002 0.0003]\n",
            " [0.0004 0.0005 0.0006 0.0007]\n",
            " [0.0008 0.0009 0.001  0.0011]\n",
            " [0.0012 0.0013 0.0014 0.0015]\n",
            " [0.0016 0.0017 0.0018 0.0019]]\n",
            "y train:\n",
            "[[0.0006]\n",
            " [0.0022]\n",
            " [0.0038]\n",
            " [0.0054]\n",
            " [0.007 ]]\n",
            "\n",
            "X test:\n",
            "[[0.1    0.1001 0.1002 0.1003]\n",
            " [0.1004 0.1005 0.1006 0.1007]\n",
            " [0.1008 0.1009 0.101  0.1011]\n",
            " [0.1012 0.1013 0.1014 0.1015]\n",
            " [0.1016 0.1017 0.1018 0.1019]]\n",
            "y test:\n",
            "[[0.4006]\n",
            " [0.4022]\n",
            " [0.4038]\n",
            " [0.4054]\n",
            " [0.407 ]]\n"
          ]
        }
      ]
    },
    {
      "cell_type": "code",
      "source": [
        "plot_each = 15\n",
        "\n",
        "plt.scatter(X_train[::plot_each, 0], y_train[::plot_each], label='train')\n",
        "plt.scatter(X_test[::plot_each, 0], y_test[::plot_each], label='test')\n",
        "plt.legend();"
      ],
      "metadata": {
        "colab": {
          "base_uri": "https://localhost:8080/",
          "height": 430
        },
        "id": "OQFgwEWwBk15",
        "outputId": "7aebf47d-8fb8-4921-b848-62a168313293"
      },
      "execution_count": 15,
      "outputs": [
        {
          "output_type": "display_data",
          "data": {
            "text/plain": [
              "<Figure size 640x480 with 1 Axes>"
            ],
            "image/png": "[encoded data removed]"
          },
          "metadata": {}
        }
      ]
    },
    {
      "cell_type": "code",
      "source": [
        "# define neural net\n",
        "model = NN(MSELoss())\n",
        "\n",
        "# add some layers\n",
        "model.add_layer(LinearLayer(4, 1))\n",
        "\n",
        "model = train(model, X_train, y_train, minibatch_size=10, epoch=100,\n",
        "           learning_rate=0.01, X_val=X_train, y_val=y_train, verbose=True)"
      ],
      "metadata": {
        "colab": {
          "base_uri": "https://localhost:8080/",
          "height": 468
        },
        "id": "DcA62n5rBpAo",
        "outputId": "d1566d71-3bd8-4f9b-981a-56e2a9bbfc0b"
      },
      "execution_count": 16,
      "outputs": [
        {
          "output_type": "display_data",
          "data": {
            "text/plain": [
              "<Figure size 1500x500 with 2 Axes>"
            ],
            "image/png": "[encoded data removed]"
          },
          "metadata": {}
        }
      ]
    },
    {
      "cell_type": "code",
      "source": [
        "import pandas as pd\n",
        "\n",
        "\n",
        "DATA_URL = \"https://raw.githubusercontent.com/stedy/Machine-Learning-with-R-datasets/master/insurance.csv\"\n",
        "data = pd.read_csv(DATA_URL)"
      ],
      "metadata": {
        "id": "TdKaqHA3Bsok"
      },
      "execution_count": 17,
      "outputs": []
    },
    {
      "cell_type": "code",
      "source": [
        "data.head()\n"
      ],
      "metadata": {
        "colab": {
          "base_uri": "https://localhost:8080/",
          "height": 206
        },
        "id": "D4NEIlvhB1sf",
        "outputId": "2279f8e0-0ba0-49c1-b30c-f4c5f47ec474"
      },
      "execution_count": 18,
      "outputs": [
        {
          "output_type": "execute_result",
          "data": {
            "text/plain": [
              "   age     sex     bmi  children smoker     region      charges\n",
              "0   19  female  27.900         0    yes  southwest  16884.92400\n",
              "1   18    male  33.770         1     no  southeast   1725.55230\n",
              "2   28    male  33.000         3     no  southeast   4449.46200\n",
              "3   33    male  22.705         0     no  northwest  21984.47061\n",
              "4   32    male  28.880         0     no  northwest   3866.85520"
            ],
            "text/html": [
              "\n",
              "  <div id=\"df-793dd741-1047-47a8-90d4-14a4ad10074f\">\n",
              "    <div class=\"colab-df-container\">\n",
              "      <div>\n",
              "<style scoped>\n",
              "    .dataframe tbody tr th:only-of-type {\n",
              "        vertical-align: middle;\n",
              "    }\n",
              "\n",
              "    .dataframe tbody tr th {\n",
              "        vertical-align: top;\n",
              "    }\n",
              "\n",
              "    .dataframe thead th {\n",
              "        text-align: right;\n",
              "    }\n",
              "</style>\n",
              "<table border=\"1\" class=\"dataframe\">\n",
              "  <thead>\n",
              "    <tr style=\"text-align: right;\">\n",
              "      <th></th>\n",
              "      <th>age</th>\n",
              "      <th>sex</th>\n",
              "      <th>bmi</th>\n",
              "      <th>children</th>\n",
              "      <th>smoker</th>\n",
              "      <th>region</th>\n",
              "      <th>charges</th>\n",
              "    </tr>\n",
              "  </thead>\n",
              "  <tbody>\n",
              "    <tr>\n",
              "      <th>0</th>\n",
              "      <td>19</td>\n",
              "      <td>female</td>\n",
              "      <td>27.900</td>\n",
              "      <td>0</td>\n",
              "      <td>yes</td>\n",
              "      <td>southwest</td>\n",
              "      <td>16884.92400</td>\n",
              "    </tr>\n",
              "    <tr>\n",
              "      <th>1</th>\n",
              "      <td>18</td>\n",
              "      <td>male</td>\n",
              "      <td>33.770</td>\n",
              "      <td>1</td>\n",
              "      <td>no</td>\n",
              "      <td>southeast</td>\n",
              "      <td>1725.55230</td>\n",
              "    </tr>\n",
              "    <tr>\n",
              "      <th>2</th>\n",
              "      <td>28</td>\n",
              "      <td>male</td>\n",
              "      <td>33.000</td>\n",
              "      <td>3</td>\n",
              "      <td>no</td>\n",
              "      <td>southeast</td>\n",
              "      <td>4449.46200</td>\n",
              "    </tr>\n",
              "    <tr>\n",
              "      <th>3</th>\n",
              "      <td>33</td>\n",
              "      <td>male</td>\n",
              "      <td>22.705</td>\n",
              "      <td>0</td>\n",
              "      <td>no</td>\n",
              "      <td>northwest</td>\n",
              "      <td>21984.47061</td>\n",
              "    </tr>\n",
              "    <tr>\n",
              "      <th>4</th>\n",
              "      <td>32</td>\n",
              "      <td>male</td>\n",
              "      <td>28.880</td>\n",
              "      <td>0</td>\n",
              "      <td>no</td>\n",
              "      <td>northwest</td>\n",
              "      <td>3866.85520</td>\n",
              "    </tr>\n",
              "  </tbody>\n",
              "</table>\n",
              "</div>\n",
              "      <button class=\"colab-df-convert\" onclick=\"convertToInteractive('df-793dd741-1047-47a8-90d4-14a4ad10074f')\"\n",
              "              title=\"Convert this dataframe to an interactive table.\"\n",
              "              style=\"display:none;\">\n",
              "        \n",
              "  <svg xmlns=\"http://www.w3.org/2000/svg\" height=\"24px\"viewBox=\"0 0 24 24\"\n",
              "       width=\"24px\">\n",
              "    <path d=\"M0 0h24v24H0V0z\" fill=\"none\"/>\n",
              "    <path d=\"M18.56 5.44l.94 2.06.94-2.06 2.06-.94-2.06-.94-.94-2.06-.94 2.06-2.06.94zm-11 1L8.5 8.5l.94-2.06 2.06-.94-2.06-.94L8.5 2.5l-.94 2.06-2.06.94zm10 10l.94 2.06.94-2.06 2.06-.94-2.06-.94-.94-2.06-.94 2.06-2.06.94z\"/><path d=\"M17.41 7.96l-1.37-1.37c-.4-.4-.92-.59-1.43-.59-.52 0-1.04.2-1.43.59L10.3 9.45l-7.72 7.72c-.78.78-.78 2.05 0 2.83L4 21.41c.39.39.9.59 1.41.59.51 0 1.02-.2 1.41-.59l7.78-7.78 2.81-2.81c.8-.78.8-2.07 0-2.86zM5.41 20L4 18.59l7.72-7.72 1.47 1.35L5.41 20z\"/>\n",
              "  </svg>\n",
              "      </button>\n",
              "      \n",
              "  <style>\n",
              "    .colab-df-container {\n",
              "      display:flex;\n",
              "      flex-wrap:wrap;\n",
              "      gap: 12px;\n",
              "    }\n",
              "\n",
              "    .colab-df-convert {\n",
              "      background-color: #E8F0FE;\n",
              "      border: none;\n",
              "      border-radius: 50%;\n",
              "      cursor: pointer;\n",
              "      display: none;\n",
              "      fill: #1967D2;\n",
              "      height: 32px;\n",
              "      padding: 0 0 0 0;\n",
              "      width: 32px;\n",
              "    }\n",
              "\n",
              "    .colab-df-convert:hover {\n",
              "      background-color: #E2EBFA;\n",
              "      box-shadow: 0px 1px 2px rgba(60, 64, 67, 0.3), 0px 1px 3px 1px rgba(60, 64, 67, 0.15);\n",
              "      fill: #174EA6;\n",
              "    }\n",
              "\n",
              "    [theme=dark] .colab-df-convert {\n",
              "      background-color: #3B4455;\n",
              "      fill: #D2E3FC;\n",
              "    }\n",
              "\n",
              "    [theme=dark] .colab-df-convert:hover {\n",
              "      background-color: #434B5C;\n",
              "      box-shadow: 0px 1px 3px 1px rgba(0, 0, 0, 0.15);\n",
              "      filter: drop-shadow(0px 1px 2px rgba(0, 0, 0, 0.3));\n",
              "      fill: #FFFFFF;\n",
              "    }\n",
              "  </style>\n",
              "\n",
              "      <script>\n",
              "        const buttonEl =\n",
              "          document.querySelector('#df-793dd741-1047-47a8-90d4-14a4ad10074f button.colab-df-convert');\n",
              "        buttonEl.style.display =\n",
              "          google.colab.kernel.accessAllowed ? 'block' : 'none';\n",
              "\n",
              "        async function convertToInteractive(key) {\n",
              "          const element = document.querySelector('#df-793dd741-1047-47a8-90d4-14a4ad10074f');\n",
              "          const dataTable =\n",
              "            await google.colab.kernel.invokeFunction('convertToInteractive',\n",
              "                                                     [key], {});\n",
              "          if (!dataTable) return;\n",
              "\n",
              "          const docLinkHtml = 'Like what you see? Visit the ' +\n",
              "            '<a target=\"_blank\" href=https://colab.research.google.com/notebooks/data_table.ipynb>data table notebook</a>'\n",
              "            + ' to learn more about interactive tables.';\n",
              "          element.innerHTML = '';\n",
              "          dataTable['output_type'] = 'display_data';\n",
              "          await google.colab.output.renderOutput(dataTable, element);\n",
              "          const docLink = document.createElement('div');\n",
              "          docLink.innerHTML = docLinkHtml;\n",
              "          element.appendChild(docLink);\n",
              "        }\n",
              "      </script>\n",
              "    </div>\n",
              "  </div>\n",
              "  "
            ]
          },
          "metadata": {},
          "execution_count": 18
        }
      ]
    },
    {
      "cell_type": "code",
      "source": [
        "cat_columns = ['sex', 'smoker', 'region']\n",
        "dummy_data = pd.get_dummies(data[cat_columns])\n",
        "data.drop(cat_columns, axis=1, inplace=True)\n",
        "data = pd.concat([data, dummy_data], axis=1)"
      ],
      "metadata": {
        "id": "JHCceAY9B4Rh"
      },
      "execution_count": 19,
      "outputs": []
    },
    {
      "cell_type": "code",
      "source": [
        "data.head()"
      ],
      "metadata": {
        "colab": {
          "base_uri": "https://localhost:8080/",
          "height": 206
        },
        "id": "nVhLiaTUB6tR",
        "outputId": "8515f263-7cbc-4f11-f2a5-928c22959679"
      },
      "execution_count": 20,
      "outputs": [
        {
          "output_type": "execute_result",
          "data": {
            "text/plain": [
              "   age     bmi  children      charges  sex_female  sex_male  smoker_no  \\\n",
              "0   19  27.900         0  16884.92400           1         0          0   \n",
              "1   18  33.770         1   1725.55230           0         1          1   \n",
              "2   28  33.000         3   4449.46200           0         1          1   \n",
              "3   33  22.705         0  21984.47061           0         1          1   \n",
              "4   32  28.880         0   3866.85520           0         1          1   \n",
              "\n",
              "   smoker_yes  region_northeast  region_northwest  region_southeast  \\\n",
              "0           1                 0                 0                 0   \n",
              "1           0                 0                 0                 1   \n",
              "2           0                 0                 0                 1   \n",
              "3           0                 0                 1                 0   \n",
              "4           0                 0                 1                 0   \n",
              "\n",
              "   region_southwest  \n",
              "0                 1  \n",
              "1                 0  \n",
              "2                 0  \n",
              "3                 0  \n",
              "4                 0  "
            ],
            "text/html": [
              "\n",
              "  <div id=\"df-02894293-dfd4-4ff8-92a3-29484ff57281\">\n",
              "    <div class=\"colab-df-container\">\n",
              "      <div>\n",
              "<style scoped>\n",
              "    .dataframe tbody tr th:only-of-type {\n",
              "        vertical-align: middle;\n",
              "    }\n",
              "\n",
              "    .dataframe tbody tr th {\n",
              "        vertical-align: top;\n",
              "    }\n",
              "\n",
              "    .dataframe thead th {\n",
              "        text-align: right;\n",
              "    }\n",
              "</style>\n",
              "<table border=\"1\" class=\"dataframe\">\n",
              "  <thead>\n",
              "    <tr style=\"text-align: right;\">\n",
              "      <th></th>\n",
              "      <th>age</th>\n",
              "      <th>bmi</th>\n",
              "      <th>children</th>\n",
              "      <th>charges</th>\n",
              "      <th>sex_female</th>\n",
              "      <th>sex_male</th>\n",
              "      <th>smoker_no</th>\n",
              "      <th>smoker_yes</th>\n",
              "      <th>region_northeast</th>\n",
              "      <th>region_northwest</th>\n",
              "      <th>region_southeast</th>\n",
              "      <th>region_southwest</th>\n",
              "    </tr>\n",
              "  </thead>\n",
              "  <tbody>\n",
              "    <tr>\n",
              "      <th>0</th>\n",
              "      <td>19</td>\n",
              "      <td>27.900</td>\n",
              "      <td>0</td>\n",
              "      <td>16884.92400</td>\n",
              "      <td>1</td>\n",
              "      <td>0</td>\n",
              "      <td>0</td>\n",
              "      <td>1</td>\n",
              "      <td>0</td>\n",
              "      <td>0</td>\n",
              "      <td>0</td>\n",
              "      <td>1</td>\n",
              "    </tr>\n",
              "    <tr>\n",
              "      <th>1</th>\n",
              "      <td>18</td>\n",
              "      <td>33.770</td>\n",
              "      <td>1</td>\n",
              "      <td>1725.55230</td>\n",
              "      <td>0</td>\n",
              "      <td>1</td>\n",
              "      <td>1</td>\n",
              "      <td>0</td>\n",
              "      <td>0</td>\n",
              "      <td>0</td>\n",
              "      <td>1</td>\n",
              "      <td>0</td>\n",
              "    </tr>\n",
              "    <tr>\n",
              "      <th>2</th>\n",
              "      <td>28</td>\n",
              "      <td>33.000</td>\n",
              "      <td>3</td>\n",
              "      <td>4449.46200</td>\n",
              "      <td>0</td>\n",
              "      <td>1</td>\n",
              "      <td>1</td>\n",
              "      <td>0</td>\n",
              "      <td>0</td>\n",
              "      <td>0</td>\n",
              "      <td>1</td>\n",
              "      <td>0</td>\n",
              "    </tr>\n",
              "    <tr>\n",
              "      <th>3</th>\n",
              "      <td>33</td>\n",
              "      <td>22.705</td>\n",
              "      <td>0</td>\n",
              "      <td>21984.47061</td>\n",
              "      <td>0</td>\n",
              "      <td>1</td>\n",
              "      <td>1</td>\n",
              "      <td>0</td>\n",
              "      <td>0</td>\n",
              "      <td>1</td>\n",
              "      <td>0</td>\n",
              "      <td>0</td>\n",
              "    </tr>\n",
              "    <tr>\n",
              "      <th>4</th>\n",
              "      <td>32</td>\n",
              "      <td>28.880</td>\n",
              "      <td>0</td>\n",
              "      <td>3866.85520</td>\n",
              "      <td>0</td>\n",
              "      <td>1</td>\n",
              "      <td>1</td>\n",
              "      <td>0</td>\n",
              "      <td>0</td>\n",
              "      <td>1</td>\n",
              "      <td>0</td>\n",
              "      <td>0</td>\n",
              "    </tr>\n",
              "  </tbody>\n",
              "</table>\n",
              "</div>\n",
              "      <button class=\"colab-df-convert\" onclick=\"convertToInteractive('df-02894293-dfd4-4ff8-92a3-29484ff57281')\"\n",
              "              title=\"Convert this dataframe to an interactive table.\"\n",
              "              style=\"display:none;\">\n",
              "        \n",
              "  <svg xmlns=\"http://www.w3.org/2000/svg\" height=\"24px\"viewBox=\"0 0 24 24\"\n",
              "       width=\"24px\">\n",
              "    <path d=\"M0 0h24v24H0V0z\" fill=\"none\"/>\n",
              "    <path d=\"M18.56 5.44l.94 2.06.94-2.06 2.06-.94-2.06-.94-.94-2.06-.94 2.06-2.06.94zm-11 1L8.5 8.5l.94-2.06 2.06-.94-2.06-.94L8.5 2.5l-.94 2.06-2.06.94zm10 10l.94 2.06.94-2.06 2.06-.94-2.06-.94-.94-2.06-.94 2.06-2.06.94z\"/><path d=\"M17.41 7.96l-1.37-1.37c-.4-.4-.92-.59-1.43-.59-.52 0-1.04.2-1.43.59L10.3 9.45l-7.72 7.72c-.78.78-.78 2.05 0 2.83L4 21.41c.39.39.9.59 1.41.59.51 0 1.02-.2 1.41-.59l7.78-7.78 2.81-2.81c.8-.78.8-2.07 0-2.86zM5.41 20L4 18.59l7.72-7.72 1.47 1.35L5.41 20z\"/>\n",
              "  </svg>\n",
              "      </button>\n",
              "      \n",
              "  <style>\n",
              "    .colab-df-container {\n",
              "      display:flex;\n",
              "      flex-wrap:wrap;\n",
              "      gap: 12px;\n",
              "    }\n",
              "\n",
              "    .colab-df-convert {\n",
              "      background-color: #E8F0FE;\n",
              "      border: none;\n",
              "      border-radius: 50%;\n",
              "      cursor: pointer;\n",
              "      display: none;\n",
              "      fill: #1967D2;\n",
              "      height: 32px;\n",
              "      padding: 0 0 0 0;\n",
              "      width: 32px;\n",
              "    }\n",
              "\n",
              "    .colab-df-convert:hover {\n",
              "      background-color: #E2EBFA;\n",
              "      box-shadow: 0px 1px 2px rgba(60, 64, 67, 0.3), 0px 1px 3px 1px rgba(60, 64, 67, 0.15);\n",
              "      fill: #174EA6;\n",
              "    }\n",
              "\n",
              "    [theme=dark] .colab-df-convert {\n",
              "      background-color: #3B4455;\n",
              "      fill: #D2E3FC;\n",
              "    }\n",
              "\n",
              "    [theme=dark] .colab-df-convert:hover {\n",
              "      background-color: #434B5C;\n",
              "      box-shadow: 0px 1px 3px 1px rgba(0, 0, 0, 0.15);\n",
              "      filter: drop-shadow(0px 1px 2px rgba(0, 0, 0, 0.3));\n",
              "      fill: #FFFFFF;\n",
              "    }\n",
              "  </style>\n",
              "\n",
              "      <script>\n",
              "        const buttonEl =\n",
              "          document.querySelector('#df-02894293-dfd4-4ff8-92a3-29484ff57281 button.colab-df-convert');\n",
              "        buttonEl.style.display =\n",
              "          google.colab.kernel.accessAllowed ? 'block' : 'none';\n",
              "\n",
              "        async function convertToInteractive(key) {\n",
              "          const element = document.querySelector('#df-02894293-dfd4-4ff8-92a3-29484ff57281');\n",
              "          const dataTable =\n",
              "            await google.colab.kernel.invokeFunction('convertToInteractive',\n",
              "                                                     [key], {});\n",
              "          if (!dataTable) return;\n",
              "\n",
              "          const docLinkHtml = 'Like what you see? Visit the ' +\n",
              "            '<a target=\"_blank\" href=https://colab.research.google.com/notebooks/data_table.ipynb>data table notebook</a>'\n",
              "            + ' to learn more about interactive tables.';\n",
              "          element.innerHTML = '';\n",
              "          dataTable['output_type'] = 'display_data';\n",
              "          await google.colab.output.renderOutput(dataTable, element);\n",
              "          const docLink = document.createElement('div');\n",
              "          docLink.innerHTML = docLinkHtml;\n",
              "          element.appendChild(docLink);\n",
              "        }\n",
              "      </script>\n",
              "    </div>\n",
              "  </div>\n",
              "  "
            ]
          },
          "metadata": {},
          "execution_count": 20
        }
      ]
    },
    {
      "cell_type": "code",
      "source": [
        "data['charges'].hist();"
      ],
      "metadata": {
        "colab": {
          "base_uri": "https://localhost:8080/",
          "height": 430
        },
        "id": "1SJ6wV7xB85R",
        "outputId": "99e559e3-6921-4b3d-856d-7963cb9234c4"
      },
      "execution_count": 21,
      "outputs": [
        {
          "output_type": "display_data",
          "data": {
            "text/plain": [
              "<Figure size 640x480 with 1 Axes>"
            ],
            "image/png": "[encoded data removed]"
          },
          "metadata": {}
        }
      ]
    },
    {
      "cell_type": "code",
      "source": [
        "data['charges_log'] = np.log(data['charges'])\n"
      ],
      "metadata": {
        "id": "5F1exDq_CAEv"
      },
      "execution_count": 22,
      "outputs": []
    },
    {
      "cell_type": "code",
      "source": [
        "data['charges_log'].hist();"
      ],
      "metadata": {
        "colab": {
          "base_uri": "https://localhost:8080/",
          "height": 430
        },
        "id": "-qs4NB4ECCv7",
        "outputId": "f38c0511-e9ca-4bab-c5fa-55de0fe6f545"
      },
      "execution_count": 24,
      "outputs": [
        {
          "output_type": "display_data",
          "data": {
            "text/plain": [
              "<Figure size 640x480 with 1 Axes>"
            ],
            "image/png": "[encoded data removed]"
          },
          "metadata": {}
        }
      ]
    },
    {
      "cell_type": "code",
      "source": [
        "data.drop(['charges'], axis=1, inplace=True)"
      ],
      "metadata": {
        "id": "ZN27EsUQCIP8"
      },
      "execution_count": 25,
      "outputs": []
    },
    {
      "cell_type": "code",
      "source": [
        "def standart_scale_feature(feature_array):\n",
        "    mean = np.mean(feature_array)\n",
        "    std = np.std(feature_array)\n",
        "    output = (feature_array - mean) / std\n",
        "    return output"
      ],
      "metadata": {
        "id": "qqjjuMaSCjod"
      },
      "execution_count": 26,
      "outputs": []
    },
    {
      "cell_type": "code",
      "source": [
        "num_features = [\"age\", \"bmi\", \"children\"]\n",
        "for feature in num_features:\n",
        "    data[feature] = standart_scale_feature(data[feature])"
      ],
      "metadata": {
        "id": "MHuv1NbdClwm"
      },
      "execution_count": 27,
      "outputs": []
    },
    {
      "cell_type": "code",
      "source": [
        "data.head()"
      ],
      "metadata": {
        "colab": {
          "base_uri": "https://localhost:8080/",
          "height": 206
        },
        "id": "VhmQMhKlCnSF",
        "outputId": "b217c481-2c5a-4476-a08b-8103a907fe9d"
      },
      "execution_count": 28,
      "outputs": [
        {
          "output_type": "execute_result",
          "data": {
            "text/plain": [
              "        age       bmi  children  sex_female  sex_male  smoker_no  smoker_yes  \\\n",
              "0 -1.438764 -0.453320 -0.908614           1         0          0           1   \n",
              "1 -1.509965  0.509621 -0.078767           0         1          1           0   \n",
              "2 -0.797954  0.383307  1.580926           0         1          1           0   \n",
              "3 -0.441948 -1.305531 -0.908614           0         1          1           0   \n",
              "4 -0.513149 -0.292556 -0.908614           0         1          1           0   \n",
              "\n",
              "   region_northeast  region_northwest  region_southeast  region_southwest  \\\n",
              "0                 0                 0                 0                 1   \n",
              "1                 0                 0                 1                 0   \n",
              "2                 0                 0                 1                 0   \n",
              "3                 0                 1                 0                 0   \n",
              "4                 0                 1                 0                 0   \n",
              "\n",
              "   charges_log  \n",
              "0     9.734176  \n",
              "1     7.453302  \n",
              "2     8.400538  \n",
              "3     9.998092  \n",
              "4     8.260197  "
            ],
            "text/html": [
              "\n",
              "  <div id=\"df-8557f218-4444-406c-8fb4-de52bd0b05e5\">\n",
              "    <div class=\"colab-df-container\">\n",
              "      <div>\n",
              "<style scoped>\n",
              "    .dataframe tbody tr th:only-of-type {\n",
              "        vertical-align: middle;\n",
              "    }\n",
              "\n",
              "    .dataframe tbody tr th {\n",
              "        vertical-align: top;\n",
              "    }\n",
              "\n",
              "    .dataframe thead th {\n",
              "        text-align: right;\n",
              "    }\n",
              "</style>\n",
              "<table border=\"1\" class=\"dataframe\">\n",
              "  <thead>\n",
              "    <tr style=\"text-align: right;\">\n",
              "      <th></th>\n",
              "      <th>age</th>\n",
              "      <th>bmi</th>\n",
              "      <th>children</th>\n",
              "      <th>sex_female</th>\n",
              "      <th>sex_male</th>\n",
              "      <th>smoker_no</th>\n",
              "      <th>smoker_yes</th>\n",
              "      <th>region_northeast</th>\n",
              "      <th>region_northwest</th>\n",
              "      <th>region_southeast</th>\n",
              "      <th>region_southwest</th>\n",
              "      <th>charges_log</th>\n",
              "    </tr>\n",
              "  </thead>\n",
              "  <tbody>\n",
              "    <tr>\n",
              "      <th>0</th>\n",
              "      <td>-1.438764</td>\n",
              "      <td>-0.453320</td>\n",
              "      <td>-0.908614</td>\n",
              "      <td>1</td>\n",
              "      <td>0</td>\n",
              "      <td>0</td>\n",
              "      <td>1</td>\n",
              "      <td>0</td>\n",
              "      <td>0</td>\n",
              "      <td>0</td>\n",
              "      <td>1</td>\n",
              "      <td>9.734176</td>\n",
              "    </tr>\n",
              "    <tr>\n",
              "      <th>1</th>\n",
              "      <td>-1.509965</td>\n",
              "      <td>0.509621</td>\n",
              "      <td>-0.078767</td>\n",
              "      <td>0</td>\n",
              "      <td>1</td>\n",
              "      <td>1</td>\n",
              "      <td>0</td>\n",
              "      <td>0</td>\n",
              "      <td>0</td>\n",
              "      <td>1</td>\n",
              "      <td>0</td>\n",
              "      <td>7.453302</td>\n",
              "    </tr>\n",
              "    <tr>\n",
              "      <th>2</th>\n",
              "      <td>-0.797954</td>\n",
              "      <td>0.383307</td>\n",
              "      <td>1.580926</td>\n",
              "      <td>0</td>\n",
              "      <td>1</td>\n",
              "      <td>1</td>\n",
              "      <td>0</td>\n",
              "      <td>0</td>\n",
              "      <td>0</td>\n",
              "      <td>1</td>\n",
              "      <td>0</td>\n",
              "      <td>8.400538</td>\n",
              "    </tr>\n",
              "    <tr>\n",
              "      <th>3</th>\n",
              "      <td>-0.441948</td>\n",
              "      <td>-1.305531</td>\n",
              "      <td>-0.908614</td>\n",
              "      <td>0</td>\n",
              "      <td>1</td>\n",
              "      <td>1</td>\n",
              "      <td>0</td>\n",
              "      <td>0</td>\n",
              "      <td>1</td>\n",
              "      <td>0</td>\n",
              "      <td>0</td>\n",
              "      <td>9.998092</td>\n",
              "    </tr>\n",
              "    <tr>\n",
              "      <th>4</th>\n",
              "      <td>-0.513149</td>\n",
              "      <td>-0.292556</td>\n",
              "      <td>-0.908614</td>\n",
              "      <td>0</td>\n",
              "      <td>1</td>\n",
              "      <td>1</td>\n",
              "      <td>0</td>\n",
              "      <td>0</td>\n",
              "      <td>1</td>\n",
              "      <td>0</td>\n",
              "      <td>0</td>\n",
              "      <td>8.260197</td>\n",
              "    </tr>\n",
              "  </tbody>\n",
              "</table>\n",
              "</div>\n",
              "      <button class=\"colab-df-convert\" onclick=\"convertToInteractive('df-8557f218-4444-406c-8fb4-de52bd0b05e5')\"\n",
              "              title=\"Convert this dataframe to an interactive table.\"\n",
              "              style=\"display:none;\">\n",
              "        \n",
              "  <svg xmlns=\"http://www.w3.org/2000/svg\" height=\"24px\"viewBox=\"0 0 24 24\"\n",
              "       width=\"24px\">\n",
              "    <path d=\"M0 0h24v24H0V0z\" fill=\"none\"/>\n",
              "    <path d=\"M18.56 5.44l.94 2.06.94-2.06 2.06-.94-2.06-.94-.94-2.06-.94 2.06-2.06.94zm-11 1L8.5 8.5l.94-2.06 2.06-.94-2.06-.94L8.5 2.5l-.94 2.06-2.06.94zm10 10l.94 2.06.94-2.06 2.06-.94-2.06-.94-.94-2.06-.94 2.06-2.06.94z\"/><path d=\"M17.41 7.96l-1.37-1.37c-.4-.4-.92-.59-1.43-.59-.52 0-1.04.2-1.43.59L10.3 9.45l-7.72 7.72c-.78.78-.78 2.05 0 2.83L4 21.41c.39.39.9.59 1.41.59.51 0 1.02-.2 1.41-.59l7.78-7.78 2.81-2.81c.8-.78.8-2.07 0-2.86zM5.41 20L4 18.59l7.72-7.72 1.47 1.35L5.41 20z\"/>\n",
              "  </svg>\n",
              "      </button>\n",
              "      \n",
              "  <style>\n",
              "    .colab-df-container {\n",
              "      display:flex;\n",
              "      flex-wrap:wrap;\n",
              "      gap: 12px;\n",
              "    }\n",
              "\n",
              "    .colab-df-convert {\n",
              "      background-color: #E8F0FE;\n",
              "      border: none;\n",
              "      border-radius: 50%;\n",
              "      cursor: pointer;\n",
              "      display: none;\n",
              "      fill: #1967D2;\n",
              "      height: 32px;\n",
              "      padding: 0 0 0 0;\n",
              "      width: 32px;\n",
              "    }\n",
              "\n",
              "    .colab-df-convert:hover {\n",
              "      background-color: #E2EBFA;\n",
              "      box-shadow: 0px 1px 2px rgba(60, 64, 67, 0.3), 0px 1px 3px 1px rgba(60, 64, 67, 0.15);\n",
              "      fill: #174EA6;\n",
              "    }\n",
              "\n",
              "    [theme=dark] .colab-df-convert {\n",
              "      background-color: #3B4455;\n",
              "      fill: #D2E3FC;\n",
              "    }\n",
              "\n",
              "    [theme=dark] .colab-df-convert:hover {\n",
              "      background-color: #434B5C;\n",
              "      box-shadow: 0px 1px 3px 1px rgba(0, 0, 0, 0.15);\n",
              "      filter: drop-shadow(0px 1px 2px rgba(0, 0, 0, 0.3));\n",
              "      fill: #FFFFFF;\n",
              "    }\n",
              "  </style>\n",
              "\n",
              "      <script>\n",
              "        const buttonEl =\n",
              "          document.querySelector('#df-8557f218-4444-406c-8fb4-de52bd0b05e5 button.colab-df-convert');\n",
              "        buttonEl.style.display =\n",
              "          google.colab.kernel.accessAllowed ? 'block' : 'none';\n",
              "\n",
              "        async function convertToInteractive(key) {\n",
              "          const element = document.querySelector('#df-8557f218-4444-406c-8fb4-de52bd0b05e5');\n",
              "          const dataTable =\n",
              "            await google.colab.kernel.invokeFunction('convertToInteractive',\n",
              "                                                     [key], {});\n",
              "          if (!dataTable) return;\n",
              "\n",
              "          const docLinkHtml = 'Like what you see? Visit the ' +\n",
              "            '<a target=\"_blank\" href=https://colab.research.google.com/notebooks/data_table.ipynb>data table notebook</a>'\n",
              "            + ' to learn more about interactive tables.';\n",
              "          element.innerHTML = '';\n",
              "          dataTable['output_type'] = 'display_data';\n",
              "          await google.colab.output.renderOutput(dataTable, element);\n",
              "          const docLink = document.createElement('div');\n",
              "          docLink.innerHTML = docLinkHtml;\n",
              "          element.appendChild(docLink);\n",
              "        }\n",
              "      </script>\n",
              "    </div>\n",
              "  </div>\n",
              "  "
            ]
          },
          "metadata": {},
          "execution_count": 28
        }
      ]
    },
    {
      "cell_type": "code",
      "source": [
        "y_name = 'charges_log'\n",
        "X = data.drop([y_name], axis=1).to_numpy()\n",
        "y = data[y_name].to_numpy().reshape(-1, 1)"
      ],
      "metadata": {
        "id": "AOE2doXKCrD1"
      },
      "execution_count": 29,
      "outputs": []
    },
    {
      "cell_type": "code",
      "source": [
        "print(\"X:\")\n",
        "print(X[:5])\n",
        "print(\"y:\")\n",
        "print(y[:5])"
      ],
      "metadata": {
        "colab": {
          "base_uri": "https://localhost:8080/"
        },
        "id": "Z5nXyg6eCt7U",
        "outputId": "a95dea03-9f81-4991-a633-7aa3570f67d4"
      },
      "execution_count": 30,
      "outputs": [
        {
          "output_type": "stream",
          "name": "stdout",
          "text": [
            "X:\n",
            "[[-1.43876426 -0.45332    -0.90861367  1.          0.          0.\n",
            "   1.          0.          0.          0.          1.        ]\n",
            " [-1.50996545  0.5096211  -0.07876719  0.          1.          1.\n",
            "   0.          0.          0.          1.          0.        ]\n",
            " [-0.79795355  0.38330685  1.58092576  0.          1.          1.\n",
            "   0.          0.          0.          1.          0.        ]\n",
            " [-0.4419476  -1.30553108 -0.90861367  0.          1.          1.\n",
            "   0.          0.          1.          0.          0.        ]\n",
            " [-0.51314879 -0.29255641 -0.90861367  0.          1.          1.\n",
            "   0.          0.          1.          0.          0.        ]]\n",
            "y:\n",
            "[[9.73417643]\n",
            " [7.45330245]\n",
            " [8.40053847]\n",
            " [9.9980916 ]\n",
            " [8.26019685]]\n"
          ]
        }
      ]
    },
    {
      "cell_type": "code",
      "source": [
        "print(X.shape)\n"
      ],
      "metadata": {
        "colab": {
          "base_uri": "https://localhost:8080/"
        },
        "id": "HCAbFi5nCxt_",
        "outputId": "ded6e56c-a582-4a03-f1c7-f198d71b3edd"
      },
      "execution_count": 31,
      "outputs": [
        {
          "output_type": "stream",
          "name": "stdout",
          "text": [
            "(1338, 11)\n"
          ]
        }
      ]
    },
    {
      "cell_type": "code",
      "source": [
        "split_idx = 1000\n",
        "X_train = X[:split_idx]\n",
        "y_train = y[:split_idx]\n",
        "X_test = X[split_idx:]\n",
        "y_test = y[split_idx:]"
      ],
      "metadata": {
        "id": "4OQU2FadC0Xq"
      },
      "execution_count": 32,
      "outputs": []
    },
    {
      "cell_type": "code",
      "source": [
        "class ReLULayer():\n",
        "    def __init__(self):\n",
        "        self.params = []\n",
        "        self.gradInput = None\n",
        "\n",
        "    def forward(self, X):\n",
        "        self.X = X.copy()\n",
        "        output = np.maximum(X, 0)\n",
        "        return output\n",
        "    \n",
        "    def backward(self, dout):\n",
        "        self.gradInput = dout.copy()\n",
        "        self.gradInput[self.X <= 0] = 0\n",
        "        return self.gradInput, []"
      ],
      "metadata": {
        "id": "sz1uXGrMC3MU"
      },
      "execution_count": 33,
      "outputs": []
    },
    {
      "cell_type": "code",
      "source": [
        "X_train.shape"
      ],
      "metadata": {
        "colab": {
          "base_uri": "https://localhost:8080/"
        },
        "id": "-I0cYekeC5bL",
        "outputId": "4e28842f-d99f-4be0-f87b-c54206e61ef3"
      },
      "execution_count": 34,
      "outputs": [
        {
          "output_type": "execute_result",
          "data": {
            "text/plain": [
              "(1000, 11)"
            ]
          },
          "metadata": {},
          "execution_count": 34
        }
      ]
    },
    {
      "cell_type": "code",
      "source": [
        "LEARNING_RATE = 1e-3  # с этим параметром придется поиграться\n",
        "N_EPOCHS = 90  # c этим тоже\n",
        "\n",
        "# инициализируем нейросеть\n",
        "model = NN(MSELoss())\n",
        "\n",
        "linear1 = LinearLayer(11, 7)\n",
        "model.add_layer(linear1)\n",
        "\n",
        "sigmoid1 = SigmoidLayer()\n",
        "model.add_layer(sigmoid1)\n",
        "\n",
        "linear2 = LinearLayer(7, 3)\n",
        "model.add_layer(linear2)\n",
        "\n",
        "relu1 = ReLULayer()\n",
        "model.add_layer(relu1)\n",
        "\n",
        "sigmoid2 = SigmoidLayer()\n",
        "model.add_layer(sigmoid2)\n",
        "\n",
        "linear3 = LinearLayer(3, 1)\n",
        "model.add_layer(linear3)\n",
        "\n",
        "relu2 = ReLULayer()\n",
        "model.add_layer(relu2)\n",
        "\n",
        "\n",
        "model = train(model, X_train, y_train, minibatch_size=128, epoch=N_EPOCHS,\n",
        "           learning_rate=LEARNING_RATE, X_val=X_test, y_val=y_test, verbose=True)"
      ],
      "metadata": {
        "colab": {
          "base_uri": "https://localhost:8080/",
          "height": 468
        },
        "id": "-FaVMCG6C8Km",
        "outputId": "b48b53f8-b1ec-44e0-86b1-1460f2874bce"
      },
      "execution_count": 35,
      "outputs": [
        {
          "output_type": "display_data",
          "data": {
            "text/plain": [
              "<Figure size 1500x500 with 2 Axes>"
            ],
            "image/png": "[encoded data removed]"
          },
          "metadata": {}
        }
      ]
    },
    {
      "cell_type": "code",
      "source": [
        "y_train_pred = model.predict(X_train)\n",
        "mean_error_train = np.mean(abs(y_train - y_train_pred))\n",
        "print(f\"Средняя абсолютная ошибка на трейне: {mean_error_train:.3f}\")\n",
        "\n",
        "y_test_pred = model.predict(X_test)\n",
        "mean_error_test = np.mean(abs(y_test - y_test_pred))\n",
        "print(f\"Средняя абсолютная ошибка на тесте: {mean_error_test:.3f}\")"
      ],
      "metadata": {
        "colab": {
          "base_uri": "https://localhost:8080/"
        },
        "id": "97_b2hkZC_av",
        "outputId": "6c8049bb-5e19-4c6b-ca5e-2e8c75a0e83a"
      },
      "execution_count": 36,
      "outputs": [
        {
          "output_type": "stream",
          "name": "stdout",
          "text": [
            "Средняя абсолютная ошибка на трейне: 0.774\n",
            "Средняя абсолютная ошибка на тесте: 0.762\n"
          ]
        }
      ]
    },
    {
      "cell_type": "code",
      "source": [
        "    y_train_pred = model.predict(X_train)\n",
        "    y_train_pred_true_values = np.exp(y_train_pred)\n",
        "    y_train_true_values = np.exp(y_train)\n",
        "    mean_error_train = np.mean(abs(y_train_true_values - y_train_pred_true_values))\n",
        "    print(f\"Средняя ошибка на трейне: {mean_error_train:.2f}\")\n",
        "\n",
        "    y_test_pred = model.predict(X_test)\n",
        "    y_test_pred_true_values = np.exp(y_test_pred)\n",
        "    y_test_true_values = np.exp(y_test)\n",
        "    mean_error_test = np.mean(abs(y_test_true_values - y_test_pred_true_values))\n",
        "    print(f\"Средняя ошибка на тесте: {mean_error_test:.2f}\")"
      ],
      "metadata": {
        "colab": {
          "base_uri": "https://localhost:8080/"
        },
        "id": "gXCIwTnYDCaw",
        "outputId": "060f5a08-6171-4248-9509-35de7ceeab37"
      },
      "execution_count": 37,
      "outputs": [
        {
          "output_type": "stream",
          "name": "stdout",
          "text": [
            "Средняя ошибка на трейне: 8468.93\n",
            "Средняя ошибка на тесте: 8890.65\n"
          ]
        }
      ]
    },
    {
      "cell_type": "code",
      "source": [
        "def mape_count(y_true, y_pred):\n",
        "    return np.mean((abs(y_true - y_pred) / y_true) * 100)"
      ],
      "metadata": {
        "id": "NRrpwFOXDGDe"
      },
      "execution_count": 38,
      "outputs": []
    },
    {
      "cell_type": "code",
      "source": [
        "mape_train = mape_count(y_train_true_values, y_train_pred_true_values)\n",
        "mape_test = mape_count(y_test_true_values, y_test_pred_true_values)\n",
        "print(f\"MAPE train: {mape_train:.2f}%\")\n",
        "print(f\"MAPE test: {mape_test:.2f}%\")"
      ],
      "metadata": {
        "colab": {
          "base_uri": "https://localhost:8080/"
        },
        "id": "8p5_AHYDDM6g",
        "outputId": "b23d49cd-5c10-4d4f-fc93-77a6ca6df887"
      },
      "execution_count": 39,
      "outputs": [
        {
          "output_type": "stream",
          "name": "stdout",
          "text": [
            "MAPE train: 105.35%\n",
            "MAPE test: 94.85%\n"
          ]
        }
      ]
    }
  ]
}